{
 "cells": [
  {
   "cell_type": "code",
   "execution_count": 16,
   "metadata": {},
   "outputs": [],
   "source": [
    "class CustomHashmap:\n",
    "    def __init__(self):\n",
    "        self.size = 20\n",
    "        self.new_array = [\"none\" for i in range(self.size)]\n",
    "       \n",
    "\n",
    "    \n",
    "\n",
    "    def create_hash(self,key):\n",
    "          h = 0\n",
    "          for i in key:\n",
    "               h +=ord(i)\n",
    "          return h % self.size\n",
    " \n",
    "    \n",
    "    def __setitem__(self,key,value):\n",
    "          hash = self.create_hash(key)\n",
    "          if(self.new_array[hash] == 'none'):\n",
    "              self.new_array[hash]=value\n",
    "          else:\n",
    "              for i in self.new_array:\n",
    "                   if(i=='none'):\n",
    "                        self.new_array[i]=value\n",
    "                        print(\"done\")\n",
    "          print(self.new_array)\n",
    "\n",
    "    def __getitem__(self,key):\n",
    "         hash = self.create_hash(key)\n",
    "         return self.new_array[hash]\n",
    "    \n",
    "    def __delitem__(self,key):\n",
    "         hash = self.create_hash(key)\n",
    "         self.new_array[hash]='none'     \n",
    "         print(\"Item \",hash, \" deleted\")    \n",
    "        \n",
    "\n",
    "    "
   ]
  },
  {
   "cell_type": "code",
   "execution_count": 22,
   "metadata": {},
   "outputs": [
    {
     "name": "stdout",
     "output_type": "stream",
     "text": [
      "['none', 'none', 'none', 'none', 'none', 'none', 'none', 'none', 8191, 'none', 'none', 'none', 'none', 'none', 'none', 'none', 'none', 'none', 'none', 'none']\n"
     ]
    }
   ],
   "source": [
    "new = CustomHashmap()\n",
    "new[\"wilson\"]=8191\n"
   ]
  },
  {
   "cell_type": "code",
   "execution_count": 23,
   "metadata": {},
   "outputs": [
    {
     "data": {
      "text/plain": [
       "'none'"
      ]
     },
     "execution_count": 23,
     "metadata": {},
     "output_type": "execute_result"
    }
   ],
   "source": [
    "new[\"gssdfg\"]"
   ]
  },
  {
   "cell_type": "code",
   "execution_count": 4,
   "metadata": {},
   "outputs": [
    {
     "name": "stdout",
     "output_type": "stream",
     "text": [
      "Item  15  deleted\n"
     ]
    }
   ],
   "source": [
    "del new[\"fgdhg\"]"
   ]
  }
 ],
 "metadata": {
  "kernelspec": {
   "display_name": "Python 3",
   "language": "python",
   "name": "python3"
  },
  "language_info": {
   "codemirror_mode": {
    "name": "ipython",
    "version": 3
   },
   "file_extension": ".py",
   "mimetype": "text/x-python",
   "name": "python",
   "nbconvert_exporter": "python",
   "pygments_lexer": "ipython3",
   "version": "3.11.5"
  },
  "orig_nbformat": 4
 },
 "nbformat": 4,
 "nbformat_minor": 2
}
