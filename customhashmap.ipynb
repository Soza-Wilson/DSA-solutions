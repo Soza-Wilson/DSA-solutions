{
 "cells": [
  {
   "cell_type": "code",
   "execution_count": 16,
   "metadata": {},
   "outputs": [],
   "source": [
    "class CustomHashmap:\n",
    "    def __init__(self):\n",
    "        self.size = 20\n",
    "        self.new_array = [\"none\" for i in range(self.size)]\n",
    "       \n",
    "\n",
    "    \n",
    "\n",
    "    def create_hash(self,key):\n",
    "          h = 0\n",
    "          for i in key:\n",
    "               h +=ord(i)\n",
    "          return h % self.size\n",
    " \n",
    "    \n",
    "    def __setitem__(self,key,value):\n",
    "         hash = self.create_hash(key)\n",
    "         self.new_array[hash] = value\n",
    "         print(self.new_array)\n",
    "\n",
    "    def __getitem__(self,key):\n",
    "         hash = self.create_hash(key)\n",
    "         return self.new_array[hash]\n",
    "    \n",
    "    def __delitem__(self,key):\n",
    "         hash = self.create_hash(key)\n",
    "         self.new_array[hash]='none'     \n",
    "         print(\"Item \",hash, \" deleted\")    \n",
    "        \n",
    "\n",
    "    "
   ]
  },
  {
   "cell_type": "code",
   "execution_count": 17,
   "metadata": {},
   "outputs": [
    {
     "name": "stdout",
     "output_type": "stream",
     "text": [
      "['none', 'none', 'none', 'none', 'none', 'none', 'none', 'none', 'none', 'none', 'none', 'none', 'none', 'none', 'none', 891, 'none', 'none', 'none', 'none']\n"
     ]
    }
   ],
   "source": [
    "new = CustomHashmap()\n",
    "new[\"gqgwu\"]=891\n"
   ]
  },
  {
   "cell_type": "code",
   "execution_count": 18,
   "metadata": {},
   "outputs": [
    {
     "data": {
      "text/plain": [
       "891"
      ]
     },
     "execution_count": 18,
     "metadata": {},
     "output_type": "execute_result"
    }
   ],
   "source": [
    "new[\"gqgwu\"]"
   ]
  },
  {
   "cell_type": "code",
   "execution_count": 19,
   "metadata": {},
   "outputs": [
    {
     "name": "stdout",
     "output_type": "stream",
     "text": [
      "Item  15  deleted\n"
     ]
    }
   ],
   "source": [
    "del new[\"gqgwu\"]"
   ]
  }
 ],
 "metadata": {
  "kernelspec": {
   "display_name": "Python 3",
   "language": "python",
   "name": "python3"
  },
  "language_info": {
   "codemirror_mode": {
    "name": "ipython",
    "version": 3
   },
   "file_extension": ".py",
   "mimetype": "text/x-python",
   "name": "python",
   "nbconvert_exporter": "python",
   "pygments_lexer": "ipython3",
   "version": "3.11.5"
  },
  "orig_nbformat": 4
 },
 "nbformat": 4,
 "nbformat_minor": 2
}
