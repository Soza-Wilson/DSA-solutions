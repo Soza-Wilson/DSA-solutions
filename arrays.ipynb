{
 "cells": [
  {
   "cell_type": "code",
   "execution_count": 1,
   "metadata": {},
   "outputs": [],
   "source": [
    "class Array():\n",
    "    def __init__(self):\n",
    "        self.expense = [['January', 2200], ['February', 2350], ['March', 2600], ['April', 2130], ['May', 2190]]\n",
    "\n",
    "\n",
    "    def get_expenditure(self,month):\n",
    "        for i in self.expense:\n",
    "           if i[0]==month:\n",
    "               return i[1]\n",
    "           \n",
    "        return \"nodata\"\n",
    "        \n",
    "\n",
    "    "
   ]
  },
  {
   "cell_type": "code",
   "execution_count": 2,
   "metadata": {},
   "outputs": [
    {
     "name": "stdout",
     "output_type": "stream",
     "text": [
      "-150\n"
     ]
    }
   ],
   "source": [
    "data = Array()\n",
    "data.get_expenditure('February')\n",
    "extra = data.get_expenditure('January')-data.get_expenditure('February')\n",
    "print(extra)\n"
   ]
  }
 ],
 "metadata": {
  "kernelspec": {
   "display_name": "Python 3",
   "language": "python",
   "name": "python3"
  },
  "language_info": {
   "codemirror_mode": {
    "name": "ipython",
    "version": 3
   },
   "file_extension": ".py",
   "mimetype": "text/x-python",
   "name": "python",
   "nbconvert_exporter": "python",
   "pygments_lexer": "ipython3",
   "version": "3.11.5"
  },
  "orig_nbformat": 4
 },
 "nbformat": 4,
 "nbformat_minor": 2
}
